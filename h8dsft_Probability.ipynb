{
 "cells": [
  {
   "cell_type": "markdown",
   "id": "644ae1bf",
   "metadata": {},
   "source": [
    "# Probability"
   ]
  },
  {
   "cell_type": "markdown",
   "id": "2cd8442e",
   "metadata": {},
   "source": [
    "Buatlah sebuah kode untuk mensimulasikan melempar koin sebanyak 50.000 kali dengan assign value random berupa 0 untuk kepala dan 1 untuk ekor. setiap kali koin dilempar, peluang untuk mendapatkan kepala atau ekor adalah 50%"
   ]
  },
  {
   "cell_type": "markdown",
   "id": "36d8950c",
   "metadata": {},
   "source": [
    "#### Import Library"
   ]
  },
  {
   "cell_type": "code",
   "execution_count": 1,
   "id": "a166a30b",
   "metadata": {},
   "outputs": [],
   "source": [
    "import random"
   ]
  },
  {
   "cell_type": "code",
   "execution_count": 2,
   "id": "adffd6ae",
   "metadata": {},
   "outputs": [
    {
     "name": "stdout",
     "output_type": "stream",
     "text": [
      "[24894, 25106]\n"
     ]
    }
   ],
   "source": [
    "# membuat list untuk 2 element(head and tails)\n",
    "head_tails = [0,0]\n",
    "\n",
    "# membuat variabel jumlah pelemparan koin\n",
    "trials = 50000\n",
    "\n",
    "# membuat variabel trial 0 sebagai awal pelemparan koin\n",
    "trial = 0\n",
    "\n",
    "# melakukan looping proses pelemaparan koin\n",
    "while trial < trials:\n",
    "     trial = trial + 1\n",
    "     # mencari nilai random dari 0 dan 1\n",
    "     toss = random.randint(0,1)\n",
    "     # memasukan nilai random kedalam list element head_tails\n",
    "     head_tails[toss] = head_tails[toss] + 1\n",
    "        \n",
    "        \n",
    "# memanggil list head_tails\n",
    "print(head_tails)\n",
    "     "
   ]
  },
  {
   "cell_type": "markdown",
   "id": "3b558f49",
   "metadata": {},
   "source": [
    "jadi dari **50.000** pelemparan koin, peluang terambilnya sisi kepala(0) adalah **24.894** dan peluang terambilnya sisi ekor(1) adalah **25.206**"
   ]
  }
 ],
 "metadata": {
  "kernelspec": {
   "display_name": "Python 3",
   "language": "python",
   "name": "python3"
  },
  "language_info": {
   "codemirror_mode": {
    "name": "ipython",
    "version": 3
   },
   "file_extension": ".py",
   "mimetype": "text/x-python",
   "name": "python",
   "nbconvert_exporter": "python",
   "pygments_lexer": "ipython3",
   "version": "3.8.5"
  }
 },
 "nbformat": 4,
 "nbformat_minor": 5
}
